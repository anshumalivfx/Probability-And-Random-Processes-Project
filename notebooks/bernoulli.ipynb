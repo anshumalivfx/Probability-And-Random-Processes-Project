{
 "cells": [
  {
   "cell_type": "code",
   "execution_count": 1,
   "metadata": {
    "execution": {
     "iopub.execute_input": "2022-05-19T02:47:04.767173Z",
     "iopub.status.busy": "2022-05-19T02:47:04.766732Z",
     "iopub.status.idle": "2022-05-19T02:47:06.057855Z",
     "shell.execute_reply": "2022-05-19T02:47:06.057414Z"
    }
   },
   "outputs": [],
   "source": [
    "import pandas as dp\n",
    "import numpy as np\n",
    "from scipy.stats import bernoulli\n",
    "import matplotlib.pyplot as plt"
   ]
  },
  {
   "cell_type": "markdown",
   "metadata": {
    "pycharm": {
     "name": "#%%\n"
    }
   },
   "source": [
    "# Probability Mass Function"
   ]
  },
  {
   "cell_type": "code",
   "execution_count": 2,
   "metadata": {
    "execution": {
     "iopub.execute_input": "2022-05-19T02:47:06.060355Z",
     "iopub.status.busy": "2022-05-19T02:47:06.060126Z",
     "iopub.status.idle": "2022-05-19T02:47:06.161512Z",
     "shell.execute_reply": "2022-05-19T02:47:06.161086Z"
    },
    "pycharm": {
     "name": "#%%\n"
    }
   },
   "outputs": [
    {
     "name": "stdout",
     "output_type": "stream",
     "text": [
      "PMF: [0.55 0.45]\n"
     ]
    },
    {
     "data": {
      "text/plain": [
       "<matplotlib.legend.Legend at 0x144a2e9a0>"
      ]
     },
     "execution_count": 2,
     "metadata": {},
     "output_type": "execute_result"
    },
    {
     "data": {
      "image/png": "[encoded data removed]",
      "text/plain": [
       "<Figure size 432x288 with 1 Axes>"
      ]
     },
     "metadata": {
      "needs_background": "light"
     },
     "output_type": "display_data"
    }
   ],
   "source": [
    "x = [0,1]\n",
    "p = 0.45\n",
    "pmf = bernoulli.pmf(x,p)\n",
    "print(f\"PMF: {pmf}\")\n",
    "plt.bar(x,pmf,label=\"PMF\", color=[\"r\", \"b\"])\n",
    "plt.title(\"Probability Mass Function\")\n",
    "plt.xlabel (\"Data Points\")\n",
    "plt.ylabel (\"Probability\")\n",
    "plt.legend()"
   ]
  },
  {
   "cell_type": "markdown",
   "metadata": {
    "pycharm": {
     "name": "#%%\n"
    }
   },
   "source": [
    "# Cumulative Density Function"
   ]
  },
  {
   "cell_type": "code",
   "execution_count": 3,
   "metadata": {
    "execution": {
     "iopub.execute_input": "2022-05-19T02:47:06.163644Z",
     "iopub.status.busy": "2022-05-19T02:47:06.163482Z",
     "iopub.status.idle": "2022-05-19T02:47:06.233014Z",
     "shell.execute_reply": "2022-05-19T02:47:06.232639Z"
    }
   },
   "outputs": [
    {
     "name": "stdout",
     "output_type": "stream",
     "text": [
      "CDF: [0.55 1.  ]\n"
     ]
    },
    {
     "data": {
      "text/plain": [
       "<matplotlib.legend.Legend at 0x144b204c0>"
      ]
     },
     "execution_count": 3,
     "metadata": {},
     "output_type": "execute_result"
    },
    {
     "data": {
      "image/png": "[encoded data removed]",
      "text/plain": [
       "<Figure size 432x288 with 1 Axes>"
      ]
     },
     "metadata": {
      "needs_background": "light"
     },
     "output_type": "display_data"
    }
   ],
   "source": [
    "X = [0,11]\n",
    "p = 0.45\n",
    "print(f\"CDF: {bernoulli.cdf(x,p)}\")\n",
    "plt.bar(x,bernoulli.cdf(x,p),label=\"CDF\", color=[\"r\", \"b\"])\n",
    "plt.title(\"Cumulative Density Function\")\n",
    "plt.xlabel (\"Data Points\")\n",
    "plt.ylabel (\"Probability\")\n",
    "plt.legend()"
   ]
  },
  {
   "cell_type": "markdown",
   "metadata": {},
   "source": [
    "# Generate Output for Random Bernoulli Events:"
   ]
  },
  {
   "cell_type": "code",
   "execution_count": 4,
   "metadata": {
    "execution": {
     "iopub.execute_input": "2022-05-19T02:47:06.235307Z",
     "iopub.status.busy": "2022-05-19T02:47:06.234996Z",
     "iopub.status.idle": "2022-05-19T02:47:06.239543Z",
     "shell.execute_reply": "2022-05-19T02:47:06.239146Z"
    }
   },
   "outputs": [
    {
     "name": "stdout",
     "output_type": "stream",
     "text": [
      "[0 0 0 0 0 1 0 0 0 0 1 0 1 1 0 0 0 0 1 1 0 0 1 0 0 0 0 1 0 0 1 1 0 0 1 0 0\n",
      " 0 1 1 0 0 0 1 0 0 0 1 0 0 1 0 0 0 0 0 1 0 1 0 0 0 1 0 0 1 0 1 0 0 0 0 0 1\n",
      " 0 1 0 0 1 0 0 0 1 1 0 0 0 0 1 1 0 1 0 1 0 0 0 1 0 1]\n"
     ]
    }
   ],
   "source": [
    "\n",
    "p = 0.45\n",
    "r = bernoulli.rvs(p, size=100)\n",
    "print(r)"
   ]
  }
 ],
 "metadata": {
  "kernelspec": {
   "display_name": "Python 3 (ipykernel)",
   "language": "python",
   "name": "python3"
  },
  "language_info": {
   "codemirror_mode": {
    "name": "ipython",
    "version": 3
   },
   "file_extension": ".py",
   "mimetype": "text/x-python",
   "name": "python",
   "nbconvert_exporter": "python",
   "pygments_lexer": "ipython3",
   "version": "3.9.12"
  }
 },
 "nbformat": 4,
 "nbformat_minor": 1
}